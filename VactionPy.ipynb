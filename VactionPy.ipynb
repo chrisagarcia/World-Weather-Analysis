{
 "cells": [
  {
   "cell_type": "code",
   "execution_count": 2,
   "id": "ce31ca04",
   "metadata": {},
   "outputs": [],
   "source": [
    "import pandas as pd\n",
    "import gmaps\n",
    "import requests\n",
    "\n",
    "from config import g_key"
   ]
  },
  {
   "cell_type": "code",
   "execution_count": 14,
   "id": "591db97f",
   "metadata": {},
   "outputs": [
    {
     "data": {
      "text/html": [
       "<div>\n",
       "<style scoped>\n",
       "    .dataframe tbody tr th:only-of-type {\n",
       "        vertical-align: middle;\n",
       "    }\n",
       "\n",
       "    .dataframe tbody tr th {\n",
       "        vertical-align: top;\n",
       "    }\n",
       "\n",
       "    .dataframe thead th {\n",
       "        text-align: right;\n",
       "    }\n",
       "</style>\n",
       "<table border=\"1\" class=\"dataframe\">\n",
       "  <thead>\n",
       "    <tr style=\"text-align: right;\">\n",
       "      <th></th>\n",
       "      <th>City_ID</th>\n",
       "      <th>City</th>\n",
       "      <th>Country</th>\n",
       "      <th>Date</th>\n",
       "      <th>Lat</th>\n",
       "      <th>Long</th>\n",
       "      <th>Max Temp</th>\n",
       "      <th>Humidity</th>\n",
       "      <th>Clouds</th>\n",
       "      <th>Wind Speed</th>\n",
       "    </tr>\n",
       "  </thead>\n",
       "  <tbody>\n",
       "    <tr>\n",
       "      <th>0</th>\n",
       "      <td>0</td>\n",
       "      <td>Kalmunai</td>\n",
       "      <td>LK</td>\n",
       "      <td>2021-10-02 16:01:47</td>\n",
       "      <td>7.4167</td>\n",
       "      <td>81.8167</td>\n",
       "      <td>80.08</td>\n",
       "      <td>82</td>\n",
       "      <td>43</td>\n",
       "      <td>6.35</td>\n",
       "    </tr>\n",
       "  </tbody>\n",
       "</table>\n",
       "</div>"
      ],
      "text/plain": [
       "   City_ID      City Country                 Date     Lat     Long  Max Temp  \\\n",
       "0        0  Kalmunai      LK  2021-10-02 16:01:47  7.4167  81.8167     80.08   \n",
       "\n",
       "   Humidity  Clouds  Wind Speed  \n",
       "0        82      43        6.35  "
      ]
     },
     "execution_count": 14,
     "metadata": {},
     "output_type": "execute_result"
    }
   ],
   "source": [
    "city_data_df = pd.read_csv('weather_data/cities.csv')\n",
    "city_data_df.head(1)"
   ]
  },
  {
   "cell_type": "code",
   "execution_count": 6,
   "id": "d106ee00",
   "metadata": {},
   "outputs": [],
   "source": [
    "gmaps.configure(api_key=g_key)"
   ]
  },
  {
   "cell_type": "code",
   "execution_count": 21,
   "id": "c959ddb7",
   "metadata": {},
   "outputs": [
    {
     "data": {
      "application/vnd.jupyter.widget-view+json": {
       "model_id": "9e02117304254ddfb4d77f1d9ca8bb62",
       "version_major": 2,
       "version_minor": 0
      },
      "text/plain": [
       "Figure(layout=FigureLayout(height='420px'))"
      ]
     },
     "metadata": {},
     "output_type": "display_data"
    }
   ],
   "source": [
    "# tells gmaps which lat/longs to use\n",
    "locations = city_data_df[['Lat', 'Long']]\n",
    "\n",
    "# scalar values for heatmapping\n",
    "max_temps = city_data_df['Max Temp']\n",
    "\n",
    "# creating the window\n",
    "fig = gmaps.figure()\n",
    "\n",
    "# adjust the formatting\n",
    "fig = gmaps.figure(center=(30,31), zoom_level=1.5)\n",
    "\n",
    "# setting values for and creating a variable for the gmaps.heatmap_layer \n",
    "heatmap_layer = gmaps.heatmap_layer(locations,\n",
    "                                    weights=max_temps,\n",
    "                                    dissipating=False, max_intensity=300, point_radius=4)\n",
    "\n",
    "# adds the heatmap variable to the window\n",
    "fig.add_layer(heatmap_layer)\n",
    "\n",
    "fig"
   ]
  },
  {
   "cell_type": "code",
   "execution_count": 24,
   "id": "ac01c54d",
   "metadata": {},
   "outputs": [
    {
     "data": {
      "application/vnd.jupyter.widget-view+json": {
       "model_id": "98a4de1f87324f16925ed08587511cb9",
       "version_major": 2,
       "version_minor": 0
      },
      "text/plain": [
       "Figure(layout=FigureLayout(height='420px'))"
      ]
     },
     "metadata": {},
     "output_type": "display_data"
    }
   ],
   "source": [
    "# tells gmaps which lat/longs to use\n",
    "locations = city_data_df[['Lat', 'Long']]\n",
    "\n",
    "# scalar values for heatmapping\n",
    "humidity = city_data_df['Humidity']\n",
    "\n",
    "# creating the window\n",
    "fig = gmaps.figure()\n",
    "\n",
    "# adjust the formatting\n",
    "fig = gmaps.figure(center=(30,31), zoom_level=1.5)\n",
    "\n",
    "# setting values for and creating a variable for the gmaps.heatmap_layer \n",
    "heatmap_layer = gmaps.heatmap_layer(locations,\n",
    "                                    weights=humidity,\n",
    "                                    dissipating=False, max_intensity=300, point_radius=4)\n",
    "\n",
    "# adds the heatmap variable to the window\n",
    "fig.add_layer(heatmap_layer)\n",
    "\n",
    "fig"
   ]
  },
  {
   "cell_type": "code",
   "execution_count": 26,
   "id": "594bf0ee",
   "metadata": {},
   "outputs": [
    {
     "data": {
      "application/vnd.jupyter.widget-view+json": {
       "model_id": "a8c72e572d274288944ebc50ec7c2405",
       "version_major": 2,
       "version_minor": 0
      },
      "text/plain": [
       "Figure(layout=FigureLayout(height='420px'))"
      ]
     },
     "metadata": {},
     "output_type": "display_data"
    }
   ],
   "source": [
    "# tells gmaps which lat/longs to use\n",
    "locations = city_data_df[['Lat', 'Long']]\n",
    "\n",
    "# scalar values for heatmapping\n",
    "cloudiness = city_data_df['Clouds']\n",
    "\n",
    "# creating the window\n",
    "fig = gmaps.figure()\n",
    "\n",
    "# adjust the formatting\n",
    "fig = gmaps.figure(center=(30,31), zoom_level=1.5)\n",
    "\n",
    "# setting values for and creating a variable for the gmaps.heatmap_layer \n",
    "heatmap_layer = gmaps.heatmap_layer(locations,\n",
    "                                    weights=cloudiness,\n",
    "                                    dissipating=False, max_intensity=300, point_radius=4)\n",
    "\n",
    "# adds the heatmap variable to the window\n",
    "fig.add_layer(heatmap_layer)\n",
    "\n",
    "fig"
   ]
  },
  {
   "cell_type": "code",
   "execution_count": 27,
   "id": "c9a2d002",
   "metadata": {},
   "outputs": [
    {
     "data": {
      "application/vnd.jupyter.widget-view+json": {
       "model_id": "49438f1600554c5bbaaefec80d845a7e",
       "version_major": 2,
       "version_minor": 0
      },
      "text/plain": [
       "Figure(layout=FigureLayout(height='420px'))"
      ]
     },
     "metadata": {},
     "output_type": "display_data"
    }
   ],
   "source": [
    "# tells gmaps which lat/longs to use\n",
    "locations = city_data_df[['Lat', 'Long']]\n",
    "\n",
    "# scalar values for heatmapping\n",
    "wind = city_data_df['Wind Speed']\n",
    "\n",
    "# creating the window\n",
    "fig = gmaps.figure()\n",
    "\n",
    "# adjust the formatting\n",
    "fig = gmaps.figure(center=(30,31), zoom_level=1.5)\n",
    "\n",
    "# setting values for and creating a variable for the gmaps.heatmap_layer \n",
    "heatmap_layer = gmaps.heatmap_layer(locations,\n",
    "                                    weights=wind,\n",
    "                                    dissipating=False, max_intensity=300, point_radius=4)\n",
    "\n",
    "# adds the heatmap variable to the window\n",
    "fig.add_layer(heatmap_layer)\n",
    "\n",
    "fig"
   ]
  },
  {
   "cell_type": "code",
   "execution_count": 79,
   "id": "35539139",
   "metadata": {
    "scrolled": true
   },
   "outputs": [
    {
     "name": "stdout",
     "output_type": "stream",
     "text": [
      "Minimum temperature: 70\n",
      "Maximum temperature: 100\n"
     ]
    }
   ],
   "source": [
    "min_temp = float(input('Minimum temperature: '))\n",
    "max_temp = float(input('Maximum temperature: '))"
   ]
  },
  {
   "cell_type": "code",
   "execution_count": 81,
   "id": "dd9b4232",
   "metadata": {},
   "outputs": [],
   "source": [
    "preferred_cities_df = city_data_df.loc[(city_data_df[\"Max Temp\"] <= max_temp) & (city_data_df[\"Max Temp\"] >= min_temp)]"
   ]
  },
  {
   "cell_type": "code",
   "execution_count": 82,
   "id": "1e4b1778",
   "metadata": {},
   "outputs": [
    {
     "name": "stdout",
     "output_type": "stream",
     "text": [
      "70.2 99.66\n"
     ]
    }
   ],
   "source": [
    "print(min(preferred_cities_df['Max Temp']), max(preferred_cities_df['Max Temp']))"
   ]
  },
  {
   "cell_type": "markdown",
   "id": "b500c6e6",
   "metadata": {},
   "source": [
    "# Hotels"
   ]
  },
  {
   "cell_type": "code",
   "execution_count": 85,
   "id": "4499acc3",
   "metadata": {},
   "outputs": [
    {
     "data": {
      "text/html": [
       "<div>\n",
       "<style scoped>\n",
       "    .dataframe tbody tr th:only-of-type {\n",
       "        vertical-align: middle;\n",
       "    }\n",
       "\n",
       "    .dataframe tbody tr th {\n",
       "        vertical-align: top;\n",
       "    }\n",
       "\n",
       "    .dataframe thead th {\n",
       "        text-align: right;\n",
       "    }\n",
       "</style>\n",
       "<table border=\"1\" class=\"dataframe\">\n",
       "  <thead>\n",
       "    <tr style=\"text-align: right;\">\n",
       "      <th></th>\n",
       "      <th>City</th>\n",
       "      <th>Country</th>\n",
       "      <th>Max Temp</th>\n",
       "      <th>Lat</th>\n",
       "      <th>Long</th>\n",
       "      <th>Hotel Name</th>\n",
       "    </tr>\n",
       "  </thead>\n",
       "  <tbody>\n",
       "    <tr>\n",
       "      <th>0</th>\n",
       "      <td>Kalmunai</td>\n",
       "      <td>LK</td>\n",
       "      <td>80.08</td>\n",
       "      <td>7.4167</td>\n",
       "      <td>81.8167</td>\n",
       "      <td></td>\n",
       "    </tr>\n",
       "    <tr>\n",
       "      <th>3</th>\n",
       "      <td>Aripuana</td>\n",
       "      <td>BR</td>\n",
       "      <td>98.22</td>\n",
       "      <td>-9.1667</td>\n",
       "      <td>-60.6333</td>\n",
       "      <td></td>\n",
       "    </tr>\n",
       "    <tr>\n",
       "      <th>5</th>\n",
       "      <td>Vila Franca Do Campo</td>\n",
       "      <td>PT</td>\n",
       "      <td>73.81</td>\n",
       "      <td>37.7167</td>\n",
       "      <td>-25.4333</td>\n",
       "      <td></td>\n",
       "    </tr>\n",
       "    <tr>\n",
       "      <th>7</th>\n",
       "      <td>Hede</td>\n",
       "      <td>CN</td>\n",
       "      <td>70.77</td>\n",
       "      <td>33.7681</td>\n",
       "      <td>120.2517</td>\n",
       "      <td></td>\n",
       "    </tr>\n",
       "    <tr>\n",
       "      <th>8</th>\n",
       "      <td>Forio</td>\n",
       "      <td>IT</td>\n",
       "      <td>74.82</td>\n",
       "      <td>40.7342</td>\n",
       "      <td>13.8646</td>\n",
       "      <td></td>\n",
       "    </tr>\n",
       "    <tr>\n",
       "      <th>...</th>\n",
       "      <td>...</td>\n",
       "      <td>...</td>\n",
       "      <td>...</td>\n",
       "      <td>...</td>\n",
       "      <td>...</td>\n",
       "      <td>...</td>\n",
       "    </tr>\n",
       "    <tr>\n",
       "      <th>562</th>\n",
       "      <td>Sao Felix Do Xingu</td>\n",
       "      <td>BR</td>\n",
       "      <td>90.07</td>\n",
       "      <td>-6.6447</td>\n",
       "      <td>-51.9950</td>\n",
       "      <td></td>\n",
       "    </tr>\n",
       "    <tr>\n",
       "      <th>563</th>\n",
       "      <td>Bathsheba</td>\n",
       "      <td>BB</td>\n",
       "      <td>92.01</td>\n",
       "      <td>13.2167</td>\n",
       "      <td>-59.5167</td>\n",
       "      <td></td>\n",
       "    </tr>\n",
       "    <tr>\n",
       "      <th>565</th>\n",
       "      <td>Rantoul</td>\n",
       "      <td>US</td>\n",
       "      <td>71.10</td>\n",
       "      <td>40.3084</td>\n",
       "      <td>-88.1559</td>\n",
       "      <td></td>\n",
       "    </tr>\n",
       "    <tr>\n",
       "      <th>567</th>\n",
       "      <td>Villa Union</td>\n",
       "      <td>MX</td>\n",
       "      <td>82.90</td>\n",
       "      <td>23.2000</td>\n",
       "      <td>-106.2333</td>\n",
       "      <td></td>\n",
       "    </tr>\n",
       "    <tr>\n",
       "      <th>570</th>\n",
       "      <td>Itaguai</td>\n",
       "      <td>BR</td>\n",
       "      <td>85.68</td>\n",
       "      <td>-22.8522</td>\n",
       "      <td>-43.7753</td>\n",
       "      <td></td>\n",
       "    </tr>\n",
       "  </tbody>\n",
       "</table>\n",
       "<p>290 rows × 6 columns</p>\n",
       "</div>"
      ],
      "text/plain": [
       "                     City Country  Max Temp      Lat      Long Hotel Name\n",
       "0                Kalmunai      LK     80.08   7.4167   81.8167           \n",
       "3                Aripuana      BR     98.22  -9.1667  -60.6333           \n",
       "5    Vila Franca Do Campo      PT     73.81  37.7167  -25.4333           \n",
       "7                    Hede      CN     70.77  33.7681  120.2517           \n",
       "8                   Forio      IT     74.82  40.7342   13.8646           \n",
       "..                    ...     ...       ...      ...       ...        ...\n",
       "562    Sao Felix Do Xingu      BR     90.07  -6.6447  -51.9950           \n",
       "563             Bathsheba      BB     92.01  13.2167  -59.5167           \n",
       "565               Rantoul      US     71.10  40.3084  -88.1559           \n",
       "567           Villa Union      MX     82.90  23.2000 -106.2333           \n",
       "570               Itaguai      BR     85.68 -22.8522  -43.7753           \n",
       "\n",
       "[290 rows x 6 columns]"
      ]
     },
     "execution_count": 85,
     "metadata": {},
     "output_type": "execute_result"
    }
   ],
   "source": [
    "hotel_df = preferred_cities_df[[\"City\", \"Country\", \"Max Temp\", \"Lat\", \"Long\"]].copy()\n",
    "hotel_df['Hotel Name'] = ''\n",
    "hotel_df"
   ]
  },
  {
   "cell_type": "code",
   "execution_count": 94,
   "id": "56f6b7da",
   "metadata": {
    "scrolled": false
   },
   "outputs": [
    {
     "name": "stdout",
     "output_type": "stream",
     "text": [
      "hotel 3 not found... skipping\n",
      "hotel 19 not found... skipping\n",
      "hotel 62 not found... skipping\n",
      "hotel 114 not found... skipping\n",
      "hotel 143 not found... skipping\n",
      "hotel 145 not found... skipping\n",
      "hotel 162 not found... skipping\n",
      "hotel 193 not found... skipping\n",
      "hotel 271 not found... skipping\n",
      "hotel 277 not found... skipping\n",
      "hotel 323 not found... skipping\n",
      "hotel 327 not found... skipping\n",
      "hotel 352 not found... skipping\n",
      "hotel 377 not found... skipping\n",
      "hotel 430 not found... skipping\n",
      "hotel 437 not found... skipping\n",
      "hotel 457 not found... skipping\n",
      "hotel 461 not found... skipping\n",
      "hotel 484 not found... skipping\n",
      "hotel 511 not found... skipping\n",
      "hotel 520 not found... skipping\n",
      "hotel 551 not found... skipping\n"
     ]
    }
   ],
   "source": [
    "params = {\n",
    "    'radius': 5000,\n",
    "    'types': 'lodging',\n",
    "    'key': g_key\n",
    "}\n",
    "\n",
    "index_errors = []\n",
    "\n",
    "for index, row in hotel_df.iterrows():\n",
    "    lat = row[\"Lat\"]\n",
    "    lng = row[\"Long\"]\n",
    "    \n",
    "    # update params\n",
    "    \n",
    "    \n",
    "    # set url\n",
    "    base_url = \"https://maps.googleapis.com/maps/api/place/nearbysearch/json\"\n",
    "    \n",
    "    # call api with params and ask for json\n",
    "    hotels = requests.get(base_url, params=params).json()\n",
    "\n",
    "    try:\n",
    "        # find the name of the 0 index hotel + add to hotel_df\n",
    "        hotel_df.loc[index, \"Hotel Name\"] = hotels[\"results\"][0][\"name\"]\n",
    "        \n",
    "    except (IndexError):\n",
    "        print(f'hotel {index} not found... skipping')\n",
    "        index_errors.append(index)"
   ]
  },
  {
   "cell_type": "code",
   "execution_count": 98,
   "id": "856e5b5f",
   "metadata": {},
   "outputs": [
    {
     "data": {
      "text/html": [
       "<div>\n",
       "<style scoped>\n",
       "    .dataframe tbody tr th:only-of-type {\n",
       "        vertical-align: middle;\n",
       "    }\n",
       "\n",
       "    .dataframe tbody tr th {\n",
       "        vertical-align: top;\n",
       "    }\n",
       "\n",
       "    .dataframe thead th {\n",
       "        text-align: right;\n",
       "    }\n",
       "</style>\n",
       "<table border=\"1\" class=\"dataframe\">\n",
       "  <thead>\n",
       "    <tr style=\"text-align: right;\">\n",
       "      <th></th>\n",
       "      <th>City</th>\n",
       "      <th>Country</th>\n",
       "      <th>Max Temp</th>\n",
       "      <th>Lat</th>\n",
       "      <th>Long</th>\n",
       "      <th>Hotel Name</th>\n",
       "    </tr>\n",
       "  </thead>\n",
       "  <tbody>\n",
       "    <tr>\n",
       "      <th>0</th>\n",
       "      <td>Kalmunai</td>\n",
       "      <td>LK</td>\n",
       "      <td>80.08</td>\n",
       "      <td>7.4167</td>\n",
       "      <td>81.8167</td>\n",
       "      <td>VS Villa</td>\n",
       "    </tr>\n",
       "    <tr>\n",
       "      <th>3</th>\n",
       "      <td>Aripuana</td>\n",
       "      <td>BR</td>\n",
       "      <td>98.22</td>\n",
       "      <td>-9.1667</td>\n",
       "      <td>-60.6333</td>\n",
       "      <td>hello</td>\n",
       "    </tr>\n",
       "    <tr>\n",
       "      <th>5</th>\n",
       "      <td>Vila Franca Do Campo</td>\n",
       "      <td>PT</td>\n",
       "      <td>73.81</td>\n",
       "      <td>37.7167</td>\n",
       "      <td>-25.4333</td>\n",
       "      <td>Pestana Bahia Praia</td>\n",
       "    </tr>\n",
       "    <tr>\n",
       "      <th>7</th>\n",
       "      <td>Hede</td>\n",
       "      <td>CN</td>\n",
       "      <td>70.77</td>\n",
       "      <td>33.7681</td>\n",
       "      <td>120.2517</td>\n",
       "      <td>Vienna 3 Best Hotel Sheyang Jiefang Rd</td>\n",
       "    </tr>\n",
       "    <tr>\n",
       "      <th>8</th>\n",
       "      <td>Forio</td>\n",
       "      <td>IT</td>\n",
       "      <td>74.82</td>\n",
       "      <td>40.7342</td>\n",
       "      <td>13.8646</td>\n",
       "      <td>Hotel Terme Providence</td>\n",
       "    </tr>\n",
       "    <tr>\n",
       "      <th>...</th>\n",
       "      <td>...</td>\n",
       "      <td>...</td>\n",
       "      <td>...</td>\n",
       "      <td>...</td>\n",
       "      <td>...</td>\n",
       "      <td>...</td>\n",
       "    </tr>\n",
       "    <tr>\n",
       "      <th>562</th>\n",
       "      <td>Sao Felix Do Xingu</td>\n",
       "      <td>BR</td>\n",
       "      <td>90.07</td>\n",
       "      <td>-6.6447</td>\n",
       "      <td>-51.9950</td>\n",
       "      <td>Rio Xingu Camping</td>\n",
       "    </tr>\n",
       "    <tr>\n",
       "      <th>563</th>\n",
       "      <td>Bathsheba</td>\n",
       "      <td>BB</td>\n",
       "      <td>92.01</td>\n",
       "      <td>13.2167</td>\n",
       "      <td>-59.5167</td>\n",
       "      <td>Atlantis Hotel</td>\n",
       "    </tr>\n",
       "    <tr>\n",
       "      <th>565</th>\n",
       "      <td>Rantoul</td>\n",
       "      <td>US</td>\n",
       "      <td>71.10</td>\n",
       "      <td>40.3084</td>\n",
       "      <td>-88.1559</td>\n",
       "      <td>First Heritage Inn</td>\n",
       "    </tr>\n",
       "    <tr>\n",
       "      <th>567</th>\n",
       "      <td>Villa Union</td>\n",
       "      <td>MX</td>\n",
       "      <td>82.90</td>\n",
       "      <td>23.2000</td>\n",
       "      <td>-106.2333</td>\n",
       "      <td>My Fantasy Auto-Hotel</td>\n",
       "    </tr>\n",
       "    <tr>\n",
       "      <th>570</th>\n",
       "      <td>Itaguai</td>\n",
       "      <td>BR</td>\n",
       "      <td>85.68</td>\n",
       "      <td>-22.8522</td>\n",
       "      <td>-43.7753</td>\n",
       "      <td>It Grande Hotel Itaguai</td>\n",
       "    </tr>\n",
       "  </tbody>\n",
       "</table>\n",
       "<p>290 rows × 6 columns</p>\n",
       "</div>"
      ],
      "text/plain": [
       "                     City Country  Max Temp      Lat      Long  \\\n",
       "0                Kalmunai      LK     80.08   7.4167   81.8167   \n",
       "3                Aripuana      BR     98.22  -9.1667  -60.6333   \n",
       "5    Vila Franca Do Campo      PT     73.81  37.7167  -25.4333   \n",
       "7                    Hede      CN     70.77  33.7681  120.2517   \n",
       "8                   Forio      IT     74.82  40.7342   13.8646   \n",
       "..                    ...     ...       ...      ...       ...   \n",
       "562    Sao Felix Do Xingu      BR     90.07  -6.6447  -51.9950   \n",
       "563             Bathsheba      BB     92.01  13.2167  -59.5167   \n",
       "565               Rantoul      US     71.10  40.3084  -88.1559   \n",
       "567           Villa Union      MX     82.90  23.2000 -106.2333   \n",
       "570               Itaguai      BR     85.68 -22.8522  -43.7753   \n",
       "\n",
       "                                 Hotel Name  \n",
       "0                                  VS Villa  \n",
       "3                                     hello  \n",
       "5                       Pestana Bahia Praia  \n",
       "7    Vienna 3 Best Hotel Sheyang Jiefang Rd  \n",
       "8                    Hotel Terme Providence  \n",
       "..                                      ...  \n",
       "562                       Rio Xingu Camping  \n",
       "563                          Atlantis Hotel  \n",
       "565                      First Heritage Inn  \n",
       "567                   My Fantasy Auto-Hotel  \n",
       "570                 It Grande Hotel Itaguai  \n",
       "\n",
       "[290 rows x 6 columns]"
      ]
     },
     "execution_count": 98,
     "metadata": {},
     "output_type": "execute_result"
    }
   ],
   "source": [
    "hotel_df"
   ]
  },
  {
   "cell_type": "code",
   "execution_count": 103,
   "id": "0a44ba6a",
   "metadata": {},
   "outputs": [],
   "source": [
    "infobox_template= '''\n",
    "<dl>\n",
    "<dt>Hotel Name</dt><dd>{Hotel Name}</dd>\n",
    "<dt>City</dt><dd>{City}</dd>\n",
    "<dt>Country</dt><dd>{Country}</dd>\n",
    "<dt>Max Temp</dt><dd>{Max Temp} °F</dd>\n",
    "</dl>\n",
    "'''\n",
    "hotel_info = [infobox_template.format(**row) for index, row in hotel_df.iterrows()]"
   ]
  },
  {
   "cell_type": "code",
   "execution_count": 104,
   "id": "1fdde58a",
   "metadata": {},
   "outputs": [
    {
     "data": {
      "application/vnd.jupyter.widget-view+json": {
       "model_id": "3458f2f3fdf34072a2255c73ecd16c3e",
       "version_major": 2,
       "version_minor": 0
      },
      "text/plain": [
       "Figure(layout=FigureLayout(height='420px'))"
      ]
     },
     "metadata": {},
     "output_type": "display_data"
    }
   ],
   "source": [
    "# same heatmap code from before\n",
    "locations = hotel_df[[\"Lat\", \"Long\"]]\n",
    "max_temp = hotel_df[\"Max Temp\"]\n",
    "markers = gmaps.marker_layer(locations, info_box_content=hotel_info)\n",
    "fig = gmaps.figure(center=(30.0, 31.0), zoom_level=1.5)\n",
    "heat_layer = gmaps.heatmap_layer(locations, weights=max_temp, dissipating=False,\n",
    "             max_intensity=300, point_radius=4)\n",
    "\n",
    "fig.add_layer(heat_layer)\n",
    "fig.add_layer(markers)\n",
    "# Call the figure to plot the data.\n",
    "fig"
   ]
  },
  {
   "cell_type": "code",
   "execution_count": null,
   "id": "bc07e14a",
   "metadata": {},
   "outputs": [],
   "source": []
  }
 ],
 "metadata": {
  "kernelspec": {
   "display_name": "PythonData",
   "language": "python",
   "name": "pythondata"
  },
  "language_info": {
   "codemirror_mode": {
    "name": "ipython",
    "version": 3
   },
   "file_extension": ".py",
   "mimetype": "text/x-python",
   "name": "python",
   "nbconvert_exporter": "python",
   "pygments_lexer": "ipython3",
   "version": "3.7.10"
  }
 },
 "nbformat": 4,
 "nbformat_minor": 5
}
